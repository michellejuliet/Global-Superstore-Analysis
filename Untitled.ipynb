{
 "cells": [
  {
   "cell_type": "markdown",
   "id": "da211e55",
   "metadata": {},
   "source": [
    "<h1> INTRODUCTION </h1>"
   ]
  },
  {
   "cell_type": "code",
   "execution_count": 1,
   "id": "b353eddc",
   "metadata": {},
   "outputs": [],
   "source": [
    "import pandas as pd\n",
    "import numpy as np\n",
    "import seaborn as sns\n",
    "import matplotlib.pyplot as plt\n",
    "\n",
    "import warnings\n",
    "warnings.filterwarnings('ignore')"
   ]
  },
  {
   "cell_type": "code",
   "execution_count": 11,
   "id": "98bed5d6",
   "metadata": {},
   "outputs": [],
   "source": [
    "df = pd.read_csv('/Users/briangor/Downloads/Global Superstore.csv', encoding='latin-1')"
   ]
  },
  {
   "cell_type": "markdown",
   "id": "a6864a77",
   "metadata": {},
   "source": [
    "<h3> "
   ]
  }
 ],
 "metadata": {
  "kernelspec": {
   "display_name": "Python 3 (ipykernel)",
   "language": "python",
   "name": "python3"
  },
  "language_info": {
   "codemirror_mode": {
    "name": "ipython",
    "version": 3
   },
   "file_extension": ".py",
   "mimetype": "text/x-python",
   "name": "python",
   "nbconvert_exporter": "python",
   "pygments_lexer": "ipython3",
   "version": "3.9.13"
  }
 },
 "nbformat": 4,
 "nbformat_minor": 5
}
